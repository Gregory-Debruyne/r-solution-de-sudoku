{
 "cells": [
  {
   "cell_type": "code",
   "execution_count": null,
   "id": "58835db2",
   "metadata": {},
   "outputs": [],
   "source": [
    "divmodjjbjjjj"
   ]
  }
 ],
 "metadata": {
  "kernelspec": {
   "display_name": ".venv",
   "language": "python",
   "name": "python3"
  },
  "language_info": {
   "name": "python",
   "version": "3.11.9"
  }
 },
 "nbformat": 4,
 "nbformat_minor": 5
}
