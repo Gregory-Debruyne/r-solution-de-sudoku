{
 "cells": [
  {
   "cell_type": "code",
   "execution_count": null,
   "id": "58835db2",
   "metadata": {},
   "outputs": [
    {
     "ename": "ImportError",
     "evalue": "cannot import name 'datetimedivmodjjbjjjj' from 'datetime' (C:\\Program Files\\WindowsApps\\PythonSoftwareFoundation.Python.3.11_3.11.2544.0_x64__qbz5n2kfra8p0\\Lib\\datetime.py)",
     "output_type": "error",
     "traceback": [
      "\u001b[31m---------------------------------------------------------------------------\u001b[39m",
      "\u001b[31mImportError\u001b[39m                               Traceback (most recent call last)",
      "\u001b[36mCell\u001b[39m\u001b[36m \u001b[39m\u001b[32mIn[1]\u001b[39m\u001b[32m, line 3\u001b[39m\n\u001b[32m      1\u001b[39m \u001b[38;5;28;01mimport\u001b[39;00m\u001b[38;5;250m \u001b[39m\u001b[34;01mcv2\u001b[39;00m\n\u001b[32m      2\u001b[39m \u001b[38;5;28;01mimport\u001b[39;00m\u001b[38;5;250m \u001b[39m\u001b[34;01mos\u001b[39;00m\n\u001b[32m----> \u001b[39m\u001b[32m3\u001b[39m \u001b[38;5;28;01mfrom\u001b[39;00m\u001b[38;5;250m \u001b[39m\u001b[34;01mdatetime\u001b[39;00m\u001b[38;5;250m \u001b[39m\u001b[38;5;28;01mimport\u001b[39;00m datetimedivmodjjbjjjj\n",
      "\u001b[31mImportError\u001b[39m: cannot import name 'datetimedivmodjjbjjjj' from 'datetime' (C:\\Program Files\\WindowsApps\\PythonSoftwareFoundation.Python.3.11_3.11.2544.0_x64__qbz5n2kfra8p0\\Lib\\datetime.py)"
     ]
    }
   ],
   "source": [
    "import cv2\n",
    "import os\n",
    "from datetime import datetime"
   ]
  },
  {
   "cell_type": "code",
   "execution_count": null,
   "id": "caca1b23",
   "metadata": {},
   "outputs": [],
   "source": [
    "# Ouvre la caméra 0 = caméra par défaut si on avait plusieurs caméras on a juste a changer le 0 par 1,2,3,...\n",
    "video_capture = cv2.VideoCapture(0)\n",
    "# Fixer le dossier d'enregistrement des captures\n",
    "image_enregistre_dossier = r\"c:\\Image_save\"\n"
   ]
  },
  {
   "cell_type": "code",
   "execution_count": null,
   "id": "3b1b16a3",
   "metadata": {},
   "outputs": [],
   "source": [
    "if not video_capture.isOpened():\n",
    "    print(\"Erreur : Impossible d'ouvrir la caméra.\")\n",
    "    exit()\n",
    "\n",
    "print(\"Caméra activée. Appuie sur 'q' pour quitter ou 'p' pour prendre une photo.\")\n",
    "\n",
    "while True:\n",
    "    resultat, image_video = video_capture.read()\n",
    "    if not resultat:\n",
    "        print(\"Erreur lors de la lecture de la caméra.\")\n",
    "        break\n",
    "# Affiche de la vidéo dans une fenêtre nommée Caméra_sudoku\n",
    "    cv2.imshow(\"Caméra_sudoku\", image_video)\n",
    "# Attendre l'appuie de la toucgee 'q' pour quitter ou 'p' pour prendre une photo\n",
    "    clavier = cv2.waitKey(1) & 0xFF\n",
    "\n",
    "    if clavier == ord('q'):\n",
    "        print(\"Caméra désactivée.\")\n",
    "        break\n",
    "\n",
    "    if clavier == ord('p'):\n",
    "    # année, mois, jour, heure, minute, seconde\n",
    "        timestamp = datetime.now().strftime(\"%Y-%m-%d_%H-%M-%S\")\n",
    "    # enregistre l'image dans le dossier d'enregistrement\n",
    "        nom_fichier = os.path.join(image_enregistre_dossier, f\"sudoku_capture_{timestamp}.png\")\n",
    "    # permet d'éviter d'écraser les images\n",
    "        cv2.imwrite(nom_fichier, image_video)\n",
    "\n",
    "        # Vérifie si l'image a bien été enregistrée dans le dossier\n",
    "        if os.path.exists(nom_fichier):\n",
    "            print(f\"✅ Image enregistrée dans le dossier de test : {nom_fichier}\")\n",
    "        else:\n",
    "            print(\"❌ Échec de l'enregistrement.\")\n",
    "        \n",
    "\n",
    "# Lorsqu'on arretera le script Python, il arretera la camera USB et fermera toutes les fenêtres d'apercu \n",
    "video_capture.release()\n",
    "cv2.destroyAllWindows()\n",
    "# Fin du script"
   ]
  }
 ],
 "metadata": {
  "kernelspec": {
   "display_name": ".venv",
   "language": "python",
   "name": "python3"
  },
  "language_info": {
   "codemirror_mode": {
    "name": "ipython",
    "version": 3
   },
   "file_extension": ".py",
   "mimetype": "text/x-python",
   "name": "python",
   "nbconvert_exporter": "python",
   "pygments_lexer": "ipython3",
   "version": "3.11.9"
  }
 },
 "nbformat": 4,
 "nbformat_minor": 5
}
