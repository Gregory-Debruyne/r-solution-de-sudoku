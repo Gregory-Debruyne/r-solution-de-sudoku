{
 "cells": [
  {
   "cell_type": "code",
   "execution_count": null,
   "id": "5c0dae71",
   "metadata": {},
   "outputs": [],
   "source": [
    "def next_box(quiz):\n",
    "    for row in range(9):\n",
    "        for col in range(9):\n",
    "            if quiz[row][col] == 0:\n",
    "                return (row, col)\n",
    "    return False\n",
    "\n",
    "#Function to fill in the possible values by evaluating rows collumns and smaller cells\n",
    "\n",
    "def possible (quiz,row, col, n):\n",
    "    #global quiz\n",
    "    for i in range (0,9):\n",
    "        if quiz[row][i] == n and row != i:\n",
    "            return False\n",
    "    for i in range (0,9):\n",
    "        if quiz[i][col] == n and col != i:\n",
    "            return False\n",
    "        \n",
    "    row0 = (row)//3\n",
    "    col0 = (col)//3\n",
    "    for i in range(row0*3, row0*3 + 3):\n",
    "        for j in range(col0*3, col0*3 + 3):\n",
    "            if quiz[i][j]==n and (i,j) != (row, col):\n",
    "                return False\n",
    "    return True\n",
    "\n",
    "#Recursion function to loop over untill a valid answer is found. \n",
    "\n",
    "def solve(quiz):\n",
    "    val = next_box(quiz)\n",
    "    if val is False:\n",
    "        return True\n",
    "    else:\n",
    "        row, col = val\n",
    "        for n in range(1,10): #n is the possible solution\n",
    "            if possible(quiz,row, col, n):\n",
    "                quiz[row][col]=n\n",
    "                if solve(quiz):\n",
    "                    return True \n",
    "                else:\n",
    "                    quiz[row][col]=0\n",
    "        return \n",
    "    \n",
    "def Solved(quiz):\n",
    "    for row in range(9):\n",
    "        if row % 3 == 0 and row != 0:\n",
    "            print(\"....................\")\n",
    "\n",
    "        for col in range(9):\n",
    "            if col % 3 == 0 and col != 0:\n",
    "                print(\"|\", end=\" \")\n",
    "\n",
    "            if col == 8:\n",
    "                print(quiz[row][col])\n",
    "            else:\n",
    "                print(str(quiz[row][col]) + \" \", end=\"\")"
   ]
  },
  {
   "cell_type": "code",
   "execution_count": null,
   "id": "ce58fe71",
   "metadata": {},
   "outputs": [],
   "source": []
  }
 ],
 "metadata": {
  "kernelspec": {
   "display_name": "machinelearning2",
   "language": "python",
   "name": "python3"
  },
  "language_info": {
   "codemirror_mode": {
    "name": "ipython",
    "version": 3
   },
   "file_extension": ".py",
   "mimetype": "text/x-python",
   "name": "python",
   "nbconvert_exporter": "python",
   "pygments_lexer": "ipython3",
   "version": "3.10.13"
  }
 },
 "nbformat": 4,
 "nbformat_minor": 5
}
