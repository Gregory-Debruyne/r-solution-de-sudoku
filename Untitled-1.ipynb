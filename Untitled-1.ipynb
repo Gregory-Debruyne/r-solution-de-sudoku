{
 "cells": [
  {
   "cell_type": "code",
   "execution_count": 2,
   "id": "acc5d5d6",
   "metadata": {},
   "outputs": [],
   "source": [
    "import tensorflow as tf\n",
    "from tensorflow import keras\n",
    "\n",
    "import numpy as np\n",
    "import matplotlib.pyplot as plt\n",
    "\n",
    "import v1_training as v1_training"
   ]
  },
  {
   "cell_type": "code",
   "execution_count": null,
   "id": "ac5a0784",
   "metadata": {},
   "outputs": [
    {
     "ename": "NameError",
     "evalue": "name 'data_X' is not defined",
     "output_type": "error",
     "traceback": [
      "\u001b[1;31m---------------------------------------------------------------------------\u001b[0m",
      "\u001b[1;31mNameError\u001b[0m                                 Traceback (most recent call last)",
      "Cell \u001b[1;32mIn[9], line 1\u001b[0m\n\u001b[1;32m----> 1\u001b[0m train_X, test_X, train_y, test_y \u001b[38;5;241m=\u001b[39m v1_training(\u001b[43mdata_X\u001b[49m,data_y,test_size\u001b[38;5;241m=\u001b[39m\u001b[38;5;241m0.05\u001b[39m)\n\u001b[0;32m      2\u001b[0m train_X, valid_X, train_y, valid_y \u001b[38;5;241m=\u001b[39m v1_training(train_X,train_y,test_size\u001b[38;5;241m=\u001b[39m\u001b[38;5;241m0.2\u001b[39m)\n\u001b[0;32m      3\u001b[0m \u001b[38;5;28mprint\u001b[39m(\u001b[38;5;124m\"\u001b[39m\u001b[38;5;124mTraining Set Shape = \u001b[39m\u001b[38;5;124m\"\u001b[39m,train_X\u001b[38;5;241m.\u001b[39mshape)\n",
      "\u001b[1;31mNameError\u001b[0m: name 'data_X' is not defined"
     ]
    }
   ],
   "source": [
    "(x_train, y_train), (x_test, y_test) = "
   ]
  }
 ],
 "metadata": {
  "kernelspec": {
   "display_name": "machinelearning2",
   "language": "python",
   "name": "python3"
  },
  "language_info": {
   "codemirror_mode": {
    "name": "ipython",
    "version": 3
   },
   "file_extension": ".py",
   "mimetype": "text/x-python",
   "name": "python",
   "nbconvert_exporter": "python",
   "pygments_lexer": "ipython3",
   "version": "3.10.13"
  }
 },
 "nbformat": 4,
 "nbformat_minor": 5
}
